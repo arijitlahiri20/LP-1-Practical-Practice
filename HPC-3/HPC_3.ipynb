{
  "nbformat": 4,
  "nbformat_minor": 0,
  "metadata": {
    "colab": {
      "name": "HPC-3.ipynb",
      "provenance": [],
      "collapsed_sections": [],
      "include_colab_link": true
    },
    "kernelspec": {
      "name": "python3",
      "display_name": "Python 3"
    },
    "accelerator": "GPU"
  },
  "cells": [
    {
      "cell_type": "markdown",
      "metadata": {
        "id": "view-in-github",
        "colab_type": "text"
      },
      "source": [
        "<a href=\"https://colab.research.google.com/github/arijitlahiri20/LP-1-Practical-Practice/blob/master/HPC-3/HPC_3.ipynb\" target=\"_parent\"><img src=\"https://colab.research.google.com/assets/colab-badge.svg\" alt=\"Open In Colab\"/></a>"
      ]
    },
    {
      "cell_type": "code",
      "metadata": {
        "id": "3qWF5V57ALhN",
        "colab_type": "code",
        "colab": {
          "base_uri": "https://localhost:8080/",
          "height": 85
        },
        "outputId": "44f2c34a-4a5e-4df2-c706-0dc5792b29ba"
      },
      "source": [
        "!nvcc --version"
      ],
      "execution_count": 1,
      "outputs": [
        {
          "output_type": "stream",
          "text": [
            "nvcc: NVIDIA (R) Cuda compiler driver\n",
            "Copyright (c) 2005-2018 NVIDIA Corporation\n",
            "Built on Sat_Aug_25_21:08:01_CDT_2018\n",
            "Cuda compilation tools, release 10.0, V10.0.130\n"
          ],
          "name": "stdout"
        }
      ]
    },
    {
      "cell_type": "code",
      "metadata": {
        "id": "srN7w_oEFzJI",
        "colab_type": "code",
        "colab": {}
      },
      "source": [
        "code =\"\"\" #include<iostream>\n",
        "#include<omp.h>\n",
        "#include<stdlib.h>\n",
        "#include <chrono>\n",
        "#define N 50000\n",
        "using namespace std;\n",
        "using namespace std::chrono;\n",
        "\n",
        "void p_bubble_sort(int *a)\n",
        "{\n",
        "    omp_set_num_threads(4);\n",
        "    static int flag;\n",
        "    for(int i=0;i<N-2;i++)\n",
        "    {\n",
        "        flag=0;\n",
        "        if(i%2==0)\n",
        "        {\n",
        "            #pragma omp parallel for\n",
        "            for(int j=0;j<N/2;j++)\n",
        "            {\n",
        "                if(a[2*j]>a[2*j+1])\n",
        "                {\n",
        "                    swap(a[2*j],a[2*j+1]);\n",
        "                    flag=1;\n",
        "                }\n",
        "            }\n",
        "        }\n",
        "        else\n",
        "        {\n",
        "            #pragma omp pararllel for\n",
        "            for(int j=0;j<(N-1)/2;j++)\n",
        "            {\n",
        "                if(a[2*j+1]>a[2*j+2])\n",
        "                {\n",
        "                    swap(a[2*j+1],a[2*j+2]);\n",
        "                    flag=1;\n",
        "                }\n",
        "            }\n",
        "        }\n",
        "        if(flag==0)\n",
        "            break;\n",
        "    }\n",
        "}\n",
        "\n",
        "void bubble_sort(int *a)\n",
        "{\n",
        "    for(int i=0;i<N;i++)\n",
        "    {\n",
        "        bool flag=true;\n",
        "        for(int j=0;j<N-i-1;j++)\n",
        "        {\n",
        "            if(a[j]>a[j+1])\n",
        "            {\n",
        "                swap(a[i],a[j]);   \n",
        "                flag=false;\n",
        "            }              \n",
        "        }\n",
        "        if(flag)\n",
        "            break;\n",
        "    }\n",
        "}\n",
        "\n",
        "int main()\n",
        "{\n",
        "    int *a=(int*)malloc(N*sizeof(int));\n",
        "    int *p_a=(int*)malloc(N*sizeof(int));\n",
        "    for(int i=0;i<N;i++){\n",
        "        a[i]=rand()%N;\n",
        "        p_a[i]=a[i];\n",
        "    }\n",
        "    //Serial Bubble sort\n",
        "    cout<<\"Serial Bubble Sort - \"<<endl;\n",
        "    auto start = high_resolution_clock::now(); \n",
        "    bubble_sort(a);\n",
        "    auto stop = high_resolution_clock::now();\n",
        "    cout<<\"Time Taken : \"<<duration_cast<milliseconds>(stop - start).count()<<\"ms\"<<endl<<endl;\n",
        "    \n",
        "    //Parallel Bubble Sort\n",
        "    cout<<\"Parallel Bubble Sort - \"<<endl;\n",
        "    start = high_resolution_clock::now(); \n",
        "    p_bubble_sort(p_a);\n",
        "    stop = high_resolution_clock::now();\n",
        "    cout<<\"Time Taken : \"<<duration_cast<milliseconds>(stop - start).count()<<\"ms\"<<endl;\n",
        "    \n",
        "    return 0;\n",
        "\n",
        "}\"\"\""
      ],
      "execution_count": 0,
      "outputs": []
    },
    {
      "cell_type": "code",
      "metadata": {
        "id": "LcG2Co5pGNPC",
        "colab_type": "code",
        "colab": {}
      },
      "source": [
        "text_file = open(\"code.cpp\", \"w\")\n",
        "text_file.write(code)\n",
        "text_file.close()"
      ],
      "execution_count": 0,
      "outputs": []
    },
    {
      "cell_type": "code",
      "metadata": {
        "id": "mBb89ZFBGPPx",
        "colab_type": "code",
        "colab": {}
      },
      "source": [
        "!g++ -fopenmp code.cpp"
      ],
      "execution_count": 0,
      "outputs": []
    },
    {
      "cell_type": "code",
      "metadata": {
        "id": "9RLYMOGTGS7w",
        "colab_type": "code",
        "colab": {
          "base_uri": "https://localhost:8080/",
          "height": 102
        },
        "outputId": "746f12c3-712c-49f9-af5f-df9e14b0377d"
      },
      "source": [
        "!./a.out"
      ],
      "execution_count": 31,
      "outputs": [
        {
          "output_type": "stream",
          "text": [
            "Serial Bubble Sort - \n",
            "Time Taken : 11890ms\n",
            "\n",
            "Parallel Bubble Sort - \n",
            "Time Taken : 12425ms\n"
          ],
          "name": "stdout"
        }
      ]
    },
    {
      "cell_type": "code",
      "metadata": {
        "id": "LrSoTQsvGeVW",
        "colab_type": "code",
        "colab": {}
      },
      "source": [
        ""
      ],
      "execution_count": 0,
      "outputs": []
    }
  ]
}