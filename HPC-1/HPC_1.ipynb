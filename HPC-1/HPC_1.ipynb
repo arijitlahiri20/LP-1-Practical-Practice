{
  "nbformat": 4,
  "nbformat_minor": 0,
  "metadata": {
    "colab": {
      "name": "HPC-1.ipynb",
      "provenance": [],
      "collapsed_sections": [],
      "include_colab_link": true
    },
    "kernelspec": {
      "name": "python3",
      "display_name": "Python 3"
    },
    "accelerator": "GPU"
  },
  "cells": [
    {
      "cell_type": "markdown",
      "metadata": {
        "id": "view-in-github",
        "colab_type": "text"
      },
      "source": [
        "<a href=\"https://colab.research.google.com/github/arijitlahiri20/LP-1-Practical-Practice/blob/master/HPC-1/HPC_1.ipynb\" target=\"_parent\"><img src=\"https://colab.research.google.com/assets/colab-badge.svg\" alt=\"Open In Colab\"/></a>"
      ]
    },
    {
      "cell_type": "code",
      "metadata": {
        "id": "VO0jW9ZSGw5i",
        "colab_type": "code",
        "colab": {
          "base_uri": "https://localhost:8080/",
          "height": 85
        },
        "outputId": "e8785398-e634-46f6-c0c1-bb9f2227ba80"
      },
      "source": [
        "!nvcc --version"
      ],
      "execution_count": 1,
      "outputs": [
        {
          "output_type": "stream",
          "text": [
            "nvcc: NVIDIA (R) Cuda compiler driver\n",
            "Copyright (c) 2005-2018 NVIDIA Corporation\n",
            "Built on Sat_Aug_25_21:08:01_CDT_2018\n",
            "Cuda compilation tools, release 10.0, V10.0.130\n"
          ],
          "name": "stdout"
        }
      ]
    },
    {
      "cell_type": "code",
      "metadata": {
        "id": "tuRAZ-dSG81v",
        "colab_type": "code",
        "colab": {}
      },
      "source": [
        "code = \"\"\" #include<iostream>\n",
        "#include<stdio.h>\n",
        "#include<math.h>\n",
        "#include<stdlib.h>\n",
        "#include<time.h>\n",
        "#define N 2048\n",
        "using namespace std;\n",
        "\n",
        "__global__ void Max(int *a)\n",
        "{\n",
        "    int tid = threadIdx.x;\n",
        "    int step_size = 1;\n",
        "    int num_of_threads = blockDim.x;\n",
        "    \n",
        "    while(num_of_threads>0){\n",
        "        if(tid<num_of_threads){\n",
        "            int first = tid*step_size*2;\n",
        "            int second = first+step_size;\n",
        "            if(a[second]>a[first])\n",
        "                a[first]=a[second];                  \n",
        "        }\n",
        "        step_size<<=1;\n",
        "        num_of_threads>>=1;\n",
        "    }\n",
        "    \n",
        "}\n",
        "__global__ void Min(int *a)\n",
        "{\n",
        "    int tid = threadIdx.x;\n",
        "    int step_size = 1;\n",
        "    int num_of_threads = blockDim.x;\n",
        "    \n",
        "    while(num_of_threads>0){\n",
        "        if(tid<num_of_threads){\n",
        "            int first = tid*step_size*2;\n",
        "            int second = first+step_size;\n",
        "            if(a[second]<a[first])\n",
        "                a[first]=a[second];                  \n",
        "        }\n",
        "        step_size<<=1;\n",
        "        num_of_threads>>=1;\n",
        "    }\n",
        "}\n",
        "__global__ void sum(int *a)\n",
        "{\n",
        "    int tid = threadIdx.x;\n",
        "    int step_size = 1;\n",
        "    int num_of_threads = blockDim.x;\n",
        "    \n",
        "    while(num_of_threads>0){\n",
        "        if(tid<num_of_threads){\n",
        "            int first = tid*step_size*2;\n",
        "            int second = first+step_size;\n",
        "            a[first]+=a[second];                  \n",
        "        }\n",
        "        step_size<<=1;\n",
        "        num_of_threads>>=1;\n",
        "    }\n",
        "}\n",
        "__global__ void mean_diff(float *a,float mean)\n",
        "{\n",
        "    a[threadIdx.x]-=mean;\n",
        "    a[threadIdx.x]*=a[threadIdx.x];\n",
        "    \n",
        "}\n",
        "__global__ void _std(float *a,int n)\n",
        "{\n",
        "    int tid = threadIdx.x;\n",
        "    int step_size = 1;\n",
        "    int num_of_threads = blockDim.x;\n",
        "    \n",
        "    while(num_of_threads>0){\n",
        "        if(tid<num_of_threads){\n",
        "            int first = tid*step_size*2;\n",
        "            int second = first+step_size;\n",
        "            a[first]+=a[second];                  \n",
        "        }\n",
        "        step_size<<=1;\n",
        "        num_of_threads>>=1;\n",
        "    }\n",
        "    a[0]/=a[0]/n;\n",
        "}\n",
        "\n",
        "int main()\n",
        "{\n",
        "    int *a = (int *)malloc(N*sizeof(int));\n",
        "    float *f = (float *)malloc(N*sizeof(float));\n",
        "    //srand(time(0));\n",
        "    for(int i=0;i<N;i++){\n",
        "        a[i]=rand()%100;\n",
        "        f[i]=float(a[i]);\n",
        "    } \n",
        "    int *a_cuda;\n",
        "    float *f_cuda;          \n",
        "    int answer;\n",
        "    \n",
        "    cudaMalloc((void **)&a_cuda,N*sizeof(int));\n",
        "   \n",
        "    //MAX\n",
        "    cudaMemcpy(a_cuda,a,N*sizeof(int),cudaMemcpyHostToDevice);\n",
        "    Max<<<1,N/2>>>(a_cuda);\n",
        "    cudaMemcpy(&answer,a_cuda,sizeof(int),cudaMemcpyDeviceToHost);\n",
        "    cout<<\"Max : \"<<answer<<endl;\n",
        "    \n",
        "    //MIN\n",
        "    cudaMemcpy(a_cuda,a,N*sizeof(int),cudaMemcpyHostToDevice);\n",
        "    Min<<<1,N/2>>>(a_cuda);\n",
        "    cudaMemcpy(&answer,a_cuda,sizeof(int),cudaMemcpyDeviceToHost);\n",
        "    cout<<\"Min : \"<<answer<<endl;\n",
        "    \n",
        "    //SUM\n",
        "    cudaMemcpy(a_cuda,a,N*sizeof(int),cudaMemcpyHostToDevice);\n",
        "    sum<<<1,N/2>>>(a_cuda);\n",
        "    cudaMemcpy(&answer,a_cuda,sizeof(int),cudaMemcpyDeviceToHost);\n",
        "    cout<<\"Sum : \"<<answer<<endl;\n",
        "    \n",
        "    //MEAN\n",
        "    float mean = float(answer)/N;\n",
        "    cout<<\"Mean : \"<<mean<<endl;\n",
        "              \n",
        "    cudaFree(a_cuda);\n",
        "    cudaMalloc((void **)&f_cuda,N*sizeof(float));\n",
        "    float result;\n",
        "    //STD\n",
        "    cudaMemcpy(f_cuda,f,N*sizeof(float),cudaMemcpyHostToDevice);          \n",
        "    mean_diff<<<1,N>>>(f_cuda,mean);        \n",
        "    _std<<<1,N/2>>>(f_cuda,N);\n",
        "    cudaMemcpy(&result,f_cuda,sizeof(float),cudaMemcpyDeviceToHost);\n",
        "    cout<<\"Variance : \"<<result<<endl;\n",
        "    cout<<\"Std. Dev. : \"<<sqrt(result)<<endl;\n",
        "              \n",
        "    cudaFree(f_cuda);    \n",
        "    cout<<endl;\n",
        "    return 0;          \n",
        "} \"\"\""
      ],
      "execution_count": 0,
      "outputs": []
    },
    {
      "cell_type": "code",
      "metadata": {
        "id": "radPCVtyHDcC",
        "colab_type": "code",
        "colab": {}
      },
      "source": [
        "text_file = open(\"code.cu\", \"w\")\n",
        "text_file.write(code)\n",
        "text_file.close()"
      ],
      "execution_count": 0,
      "outputs": []
    },
    {
      "cell_type": "code",
      "metadata": {
        "id": "Z52zBbCkHJA5",
        "colab_type": "code",
        "colab": {}
      },
      "source": [
        "!nvcc code.cu"
      ],
      "execution_count": 0,
      "outputs": []
    },
    {
      "cell_type": "code",
      "metadata": {
        "id": "vIiZMTU8HLBc",
        "colab_type": "code",
        "colab": {
          "base_uri": "https://localhost:8080/",
          "height": 136
        },
        "outputId": "80ad219c-b187-46b3-9011-39e91bff6acf"
      },
      "source": [
        "!./a.out"
      ],
      "execution_count": 66,
      "outputs": [
        {
          "output_type": "stream",
          "text": [
            "Max : 99\n",
            "Min : 0\n",
            "Sum : 68699\n",
            "Mean : 33.5444\n",
            "Variance : 2048\n",
            "Std. Dev. : 45.2548\n",
            "\n"
          ],
          "name": "stdout"
        }
      ]
    },
    {
      "cell_type": "code",
      "metadata": {
        "id": "-5hHyxMGI4Mn",
        "colab_type": "code",
        "colab": {
          "base_uri": "https://localhost:8080/",
          "height": 493
        },
        "outputId": "901b6316-e9cc-4e2e-befd-0be290cd9a4e"
      },
      "source": [
        "!nvprof ./a.out"
      ],
      "execution_count": 67,
      "outputs": [
        {
          "output_type": "stream",
          "text": [
            "==856== NVPROF is profiling process 856, command: ./a.out\n",
            "Max : 99\n",
            "Min : 0\n",
            "Sum : 72797\n",
            "Mean : 35.5454\n",
            "Variance : 2048\n",
            "Std. Dev. : 45.2548\n",
            "\n",
            "==856== Profiling application: ./a.out\n",
            "==856== Profiling result:\n",
            "            Type  Time(%)      Time     Calls       Avg       Min       Max  Name\n",
            " GPU activities:   20.01%  17.920us         1  17.920us  17.920us  17.920us  _std(float*, int)\n",
            "                   18.19%  16.288us         1  16.288us  16.288us  16.288us  sum(int*)\n",
            "                   17.61%  15.776us         1  15.776us  15.776us  15.776us  Max(int*)\n",
            "                   17.51%  15.680us         1  15.680us  15.680us  15.680us  Min(int*)\n",
            "                   15.97%  14.304us         4  3.5760us  3.3280us  4.0960us  [CUDA memcpy HtoD]\n",
            "                   10.72%  9.6000us         4  2.4000us  2.3360us  2.5920us  [CUDA memcpy DtoH]\n",
            "      API calls:   98.87%  126.14ms         2  63.069ms  161.47us  125.98ms  cudaMalloc\n",
            "                    0.40%  508.27us         1  508.27us  508.27us  508.27us  cuDeviceTotalMem\n",
            "                    0.26%  327.08us        96  3.4070us     149ns  140.80us  cuDeviceGetAttribute\n",
            "                    0.17%  222.28us         8  27.785us  10.067us  38.016us  cudaMemcpy\n",
            "                    0.15%  196.18us         2  98.091us  86.377us  109.81us  cudaFree\n",
            "                    0.12%  151.42us         5  30.284us     726ns  103.85us  cudaLaunchKernel\n",
            "                    0.02%  22.637us         1  22.637us  22.637us  22.637us  cuDeviceGetName\n",
            "                    0.01%  12.440us         1  12.440us  12.440us  12.440us  cuDeviceGetPCIBusId\n",
            "                    0.00%  2.4020us         3     800ns     207ns  1.3070us  cuDeviceGetCount\n",
            "                    0.00%  1.5380us         2     769ns     327ns  1.2110us  cuDeviceGet\n",
            "                    0.00%     301ns         1     301ns     301ns     301ns  cuDeviceGetUuid\n"
          ],
          "name": "stdout"
        }
      ]
    },
    {
      "cell_type": "code",
      "metadata": {
        "id": "Q0Ia2tHhI9RA",
        "colab_type": "code",
        "colab": {}
      },
      "source": [
        ""
      ],
      "execution_count": 0,
      "outputs": []
    }
  ]
}