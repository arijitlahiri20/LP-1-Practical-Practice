{
 "cells": [
  {
   "cell_type": "code",
   "execution_count": 8,
   "metadata": {},
   "outputs": [],
   "source": [
    "import pandas as pd\n",
    "import matplotlib.pyplot as plt\n",
    "import numpy as np\n",
    "from sklearn.preprocessing import StandardScaler\n",
    "from sklearn.svm import SVC\n",
    "from sklearn.linear_model import LogisticRegression\n",
    "from sklearn.tree import DecisionTreeClassifier\n",
    "from sklearn.ensemble import RandomForestClassifier\n",
    "\n",
    "from sklearn.metrics import f1_score, precision_score, recall_score"
   ]
  },
  {
   "cell_type": "code",
   "execution_count": 9,
   "metadata": {},
   "outputs": [],
   "source": [
    "data = pd.read_csv('TripData.csv')"
   ]
  },
  {
   "cell_type": "code",
   "execution_count": 10,
   "metadata": {},
   "outputs": [
    {
     "data": {
      "text/html": [
       "<div>\n",
       "<style scoped>\n",
       "    .dataframe tbody tr th:only-of-type {\n",
       "        vertical-align: middle;\n",
       "    }\n",
       "\n",
       "    .dataframe tbody tr th {\n",
       "        vertical-align: top;\n",
       "    }\n",
       "\n",
       "    .dataframe thead th {\n",
       "        text-align: right;\n",
       "    }\n",
       "</style>\n",
       "<table border=\"1\" class=\"dataframe\">\n",
       "  <thead>\n",
       "    <tr style=\"text-align: right;\">\n",
       "      <th></th>\n",
       "      <th>Duration</th>\n",
       "      <th>Start date</th>\n",
       "      <th>End date</th>\n",
       "      <th>Start station number</th>\n",
       "      <th>Start station</th>\n",
       "      <th>End station number</th>\n",
       "      <th>End station</th>\n",
       "      <th>Bike number</th>\n",
       "      <th>Member type</th>\n",
       "    </tr>\n",
       "  </thead>\n",
       "  <tbody>\n",
       "    <tr>\n",
       "      <th>0</th>\n",
       "      <td>679</td>\n",
       "      <td>2018-05-01 00:00:00</td>\n",
       "      <td>2018-05-01 00:11:19</td>\n",
       "      <td>31302</td>\n",
       "      <td>Wisconsin Ave &amp; Newark St NW</td>\n",
       "      <td>31307</td>\n",
       "      <td>3000 Connecticut Ave NW / National Zoo</td>\n",
       "      <td>W22771</td>\n",
       "      <td>Member</td>\n",
       "    </tr>\n",
       "    <tr>\n",
       "      <th>1</th>\n",
       "      <td>578</td>\n",
       "      <td>2018-05-01 00:00:20</td>\n",
       "      <td>2018-05-01 00:09:59</td>\n",
       "      <td>31232</td>\n",
       "      <td>7th &amp; F St NW / National Portrait Gallery</td>\n",
       "      <td>31609</td>\n",
       "      <td>Maine Ave &amp; 7th St SW</td>\n",
       "      <td>W21320</td>\n",
       "      <td>Casual</td>\n",
       "    </tr>\n",
       "    <tr>\n",
       "      <th>2</th>\n",
       "      <td>580</td>\n",
       "      <td>2018-05-01 00:00:28</td>\n",
       "      <td>2018-05-01 00:10:09</td>\n",
       "      <td>31232</td>\n",
       "      <td>7th &amp; F St NW / National Portrait Gallery</td>\n",
       "      <td>31609</td>\n",
       "      <td>Maine Ave &amp; 7th St SW</td>\n",
       "      <td>W20863</td>\n",
       "      <td>Casual</td>\n",
       "    </tr>\n",
       "    <tr>\n",
       "      <th>3</th>\n",
       "      <td>606</td>\n",
       "      <td>2018-05-01 00:01:22</td>\n",
       "      <td>2018-05-01 00:11:29</td>\n",
       "      <td>31104</td>\n",
       "      <td>Adams Mill &amp; Columbia Rd NW</td>\n",
       "      <td>31509</td>\n",
       "      <td>New Jersey Ave &amp; R St NW</td>\n",
       "      <td>W00822</td>\n",
       "      <td>Member</td>\n",
       "    </tr>\n",
       "    <tr>\n",
       "      <th>4</th>\n",
       "      <td>582</td>\n",
       "      <td>2018-05-01 00:04:52</td>\n",
       "      <td>2018-05-01 00:14:34</td>\n",
       "      <td>31129</td>\n",
       "      <td>15th St &amp; Pennsylvania Ave NW/Pershing Park</td>\n",
       "      <td>31118</td>\n",
       "      <td>3rd &amp; Elm St NW</td>\n",
       "      <td>W21846</td>\n",
       "      <td>Member</td>\n",
       "    </tr>\n",
       "  </tbody>\n",
       "</table>\n",
       "</div>"
      ],
      "text/plain": [
       "   Duration           Start date             End date  Start station number  \\\n",
       "0       679  2018-05-01 00:00:00  2018-05-01 00:11:19                 31302   \n",
       "1       578  2018-05-01 00:00:20  2018-05-01 00:09:59                 31232   \n",
       "2       580  2018-05-01 00:00:28  2018-05-01 00:10:09                 31232   \n",
       "3       606  2018-05-01 00:01:22  2018-05-01 00:11:29                 31104   \n",
       "4       582  2018-05-01 00:04:52  2018-05-01 00:14:34                 31129   \n",
       "\n",
       "                                 Start station  End station number  \\\n",
       "0                 Wisconsin Ave & Newark St NW               31307   \n",
       "1    7th & F St NW / National Portrait Gallery               31609   \n",
       "2    7th & F St NW / National Portrait Gallery               31609   \n",
       "3                  Adams Mill & Columbia Rd NW               31509   \n",
       "4  15th St & Pennsylvania Ave NW/Pershing Park               31118   \n",
       "\n",
       "                              End station Bike number Member type  \n",
       "0  3000 Connecticut Ave NW / National Zoo      W22771      Member  \n",
       "1                   Maine Ave & 7th St SW      W21320      Casual  \n",
       "2                   Maine Ave & 7th St SW      W20863      Casual  \n",
       "3                New Jersey Ave & R St NW      W00822      Member  \n",
       "4                         3rd & Elm St NW      W21846      Member  "
      ]
     },
     "execution_count": 10,
     "metadata": {},
     "output_type": "execute_result"
    }
   ],
   "source": [
    "data.head()"
   ]
  },
  {
   "cell_type": "code",
   "execution_count": 11,
   "metadata": {},
   "outputs": [
    {
     "data": {
      "text/html": [
       "<div>\n",
       "<style scoped>\n",
       "    .dataframe tbody tr th:only-of-type {\n",
       "        vertical-align: middle;\n",
       "    }\n",
       "\n",
       "    .dataframe tbody tr th {\n",
       "        vertical-align: top;\n",
       "    }\n",
       "\n",
       "    .dataframe thead th {\n",
       "        text-align: right;\n",
       "    }\n",
       "</style>\n",
       "<table border=\"1\" class=\"dataframe\">\n",
       "  <thead>\n",
       "    <tr style=\"text-align: right;\">\n",
       "      <th></th>\n",
       "      <th>Duration</th>\n",
       "      <th>Start station number</th>\n",
       "      <th>End station number</th>\n",
       "    </tr>\n",
       "  </thead>\n",
       "  <tbody>\n",
       "    <tr>\n",
       "      <th>count</th>\n",
       "      <td>374115.000000</td>\n",
       "      <td>374115.000000</td>\n",
       "      <td>374115.000000</td>\n",
       "    </tr>\n",
       "    <tr>\n",
       "      <th>mean</th>\n",
       "      <td>1261.837144</td>\n",
       "      <td>31321.624460</td>\n",
       "      <td>31322.260757</td>\n",
       "    </tr>\n",
       "    <tr>\n",
       "      <th>std</th>\n",
       "      <td>2423.195856</td>\n",
       "      <td>220.156373</td>\n",
       "      <td>217.183046</td>\n",
       "    </tr>\n",
       "    <tr>\n",
       "      <th>min</th>\n",
       "      <td>60.000000</td>\n",
       "      <td>31000.000000</td>\n",
       "      <td>31000.000000</td>\n",
       "    </tr>\n",
       "    <tr>\n",
       "      <th>25%</th>\n",
       "      <td>441.000000</td>\n",
       "      <td>31208.000000</td>\n",
       "      <td>31212.000000</td>\n",
       "    </tr>\n",
       "    <tr>\n",
       "      <th>50%</th>\n",
       "      <td>769.000000</td>\n",
       "      <td>31258.000000</td>\n",
       "      <td>31257.000000</td>\n",
       "    </tr>\n",
       "    <tr>\n",
       "      <th>75%</th>\n",
       "      <td>1322.000000</td>\n",
       "      <td>31500.000000</td>\n",
       "      <td>31408.000000</td>\n",
       "    </tr>\n",
       "    <tr>\n",
       "      <th>max</th>\n",
       "      <td>86181.000000</td>\n",
       "      <td>32227.000000</td>\n",
       "      <td>32227.000000</td>\n",
       "    </tr>\n",
       "  </tbody>\n",
       "</table>\n",
       "</div>"
      ],
      "text/plain": [
       "            Duration  Start station number  End station number\n",
       "count  374115.000000         374115.000000       374115.000000\n",
       "mean     1261.837144          31321.624460        31322.260757\n",
       "std      2423.195856            220.156373          217.183046\n",
       "min        60.000000          31000.000000        31000.000000\n",
       "25%       441.000000          31208.000000        31212.000000\n",
       "50%       769.000000          31258.000000        31257.000000\n",
       "75%      1322.000000          31500.000000        31408.000000\n",
       "max     86181.000000          32227.000000        32227.000000"
      ]
     },
     "execution_count": 11,
     "metadata": {},
     "output_type": "execute_result"
    }
   ],
   "source": [
    "data.describe()"
   ]
  },
  {
   "cell_type": "code",
   "execution_count": 12,
   "metadata": {},
   "outputs": [
    {
     "name": "stdout",
     "output_type": "stream",
     "text": [
      "<class 'pandas.core.frame.DataFrame'>\n",
      "RangeIndex: 374115 entries, 0 to 374114\n",
      "Data columns (total 9 columns):\n",
      "Duration                374115 non-null int64\n",
      "Start date              374115 non-null object\n",
      "End date                374115 non-null object\n",
      "Start station number    374115 non-null int64\n",
      "Start station           374115 non-null object\n",
      "End station number      374115 non-null int64\n",
      "End station             374115 non-null object\n",
      "Bike number             374115 non-null object\n",
      "Member type             374115 non-null object\n",
      "dtypes: int64(3), object(6)\n",
      "memory usage: 25.7+ MB\n"
     ]
    }
   ],
   "source": [
    "data.info()"
   ]
  },
  {
   "cell_type": "code",
   "execution_count": 13,
   "metadata": {},
   "outputs": [
    {
     "name": "stdout",
     "output_type": "stream",
     "text": [
      "374115\n"
     ]
    },
    {
     "data": {
      "text/plain": [
       "Member    271812\n",
       "Casual    102303\n",
       "Name: Member type, dtype: int64"
      ]
     },
     "execution_count": 13,
     "metadata": {},
     "output_type": "execute_result"
    }
   ],
   "source": [
    "print(len(data))\n",
    "data['Member type'].value_counts()"
   ]
  },
  {
   "cell_type": "code",
   "execution_count": 14,
   "metadata": {},
   "outputs": [
    {
     "data": {
      "text/plain": [
       "Member    271812\n",
       "Casual    102303\n",
       "Name: Member type, dtype: int64"
      ]
     },
     "execution_count": 14,
     "metadata": {},
     "output_type": "execute_result"
    }
   ],
   "source": [
    "#Remove rows where y is unknown\n",
    "data = data[data['Member type'] != 'Unknown']\n",
    "data['Member type'].value_counts()"
   ]
  },
  {
   "cell_type": "code",
   "execution_count": 15,
   "metadata": {},
   "outputs": [
    {
     "name": "stderr",
     "output_type": "stream",
     "text": [
      "/Users/rumilahiri/anaconda3/lib/python3.7/site-packages/ipykernel_launcher.py:3: SettingWithCopyWarning: \n",
      "A value is trying to be set on a copy of a slice from a DataFrame\n",
      "\n",
      "See the caveats in the documentation: http://pandas.pydata.org/pandas-docs/stable/indexing.html#indexing-view-versus-copy\n",
      "  This is separate from the ipykernel package so we can avoid doing imports until\n",
      "/Users/rumilahiri/anaconda3/lib/python3.7/site-packages/ipykernel_launcher.py:4: SettingWithCopyWarning: \n",
      "A value is trying to be set on a copy of a slice from a DataFrame\n",
      "\n",
      "See the caveats in the documentation: http://pandas.pydata.org/pandas-docs/stable/indexing.html#indexing-view-versus-copy\n",
      "  after removing the cwd from sys.path.\n"
     ]
    }
   ],
   "source": [
    "x,y = data['Duration'], data['Member type']\n",
    "\n",
    "y[ y == 'Member' ] = 1\n",
    "y[ y == 'Casual' ] = 0"
   ]
  },
  {
   "cell_type": "code",
   "execution_count": 16,
   "metadata": {},
   "outputs": [],
   "source": [
    "x = np.asarray(x)\n",
    "y = np.asarray(y)\n",
    "y = y.astype('int')"
   ]
  },
  {
   "cell_type": "code",
   "execution_count": 17,
   "metadata": {},
   "outputs": [
    {
     "name": "stdout",
     "output_type": "stream",
     "text": [
      "Train Size: 261880\n",
      "Test Size : 112235\n"
     ]
    }
   ],
   "source": [
    "total = len(x)\n",
    "\n",
    "train_per = 0.7\n",
    "train_size = int(train_per*total)\n",
    "\n",
    "print('Train Size: %d' % train_size)\n",
    "print('Test Size : %d' % int(total-train_size) )\n",
    "\n",
    "x_train = x[:train_size]\n",
    "y_train = y[:train_size]\n",
    "\n",
    "x_test = x[train_size:]\n",
    "y_test = y[train_size:]"
   ]
  },
  {
   "cell_type": "code",
   "execution_count": 18,
   "metadata": {},
   "outputs": [
    {
     "name": "stdout",
     "output_type": "stream",
     "text": [
      "Member Duration\n",
      "min: nan\n",
      "max: nan\n",
      "mean: nan\n",
      "std: nan\n",
      "\n",
      "Casual Duration\n",
      "min: nan\n",
      "max: nan\n",
      "mean: nan\n",
      "std: nan\n"
     ]
    }
   ],
   "source": [
    "print('Member Duration')\n",
    "print('min: %f' % np.min(data[ data['Member type'] == 'Member' ]['Duration']))\n",
    "print('max: %f' % np.max(data[ data['Member type'] == 'Member' ]['Duration']))\n",
    "print('mean: %f' % np.mean(data[ data['Member type'] == 'Member' ]['Duration']))\n",
    "print('std: %f' % np.std(data[ data['Member type'] == 'Member' ]['Duration']))\n",
    "\n",
    "print()\n",
    "\n",
    "print('Casual Duration')\n",
    "print('min: %f' % np.min(data[ data['Member type'] == 'Casual' ]['Duration']))\n",
    "print('max: %f' % np.max(data[ data['Member type'] == 'Casual' ]['Duration']))\n",
    "print('mean: %f' % np.mean(data[ data['Member type'] == 'Casual' ]['Duration']))\n",
    "print('std: %f' % np.std(data[ data['Member type'] == 'Casual' ]['Duration']))\n"
   ]
  },
  {
   "cell_type": "code",
   "execution_count": 19,
   "metadata": {},
   "outputs": [
    {
     "data": {
      "text/plain": [
       "(array([0., 0., 0., 0., 0., 0., 0., 0., 0., 0.]),\n",
       " array([0. , 0.1, 0.2, 0.3, 0.4, 0.5, 0.6, 0.7, 0.8, 0.9, 1. ]),\n",
       " <a list of 10 Patch objects>)"
      ]
     },
     "execution_count": 19,
     "metadata": {},
     "output_type": "execute_result"
    },
    {
     "data": {
      "image/png": "[encoded data removed]",
      "text/plain": [
       "<Figure size 432x288 with 1 Axes>"
      ]
     },
     "metadata": {
      "needs_background": "light"
     },
     "output_type": "display_data"
    }
   ],
   "source": [
    "data.boxplot(column='Duration')\n",
    "plt.hist(data[ data['Member type'] == 'Member' ]['Duration'])"
   ]
  },
  {
   "cell_type": "code",
   "execution_count": 20,
   "metadata": {},
   "outputs": [],
   "source": [
    "scaler = StandardScaler()\n",
    "x_train = np.expand_dims(x_train, axis=-1)\n",
    "x_test = np.expand_dims(x_test, axis=-1)\n",
    "\n",
    "#y_train = np.expand_dims(y_train, axis=-1)\n",
    "#y_test = np.expand_dims(y_test, axis=-1)"
   ]
  },
  {
   "cell_type": "code",
   "execution_count": 21,
   "metadata": {},
   "outputs": [
    {
     "name": "stdout",
     "output_type": "stream",
     "text": [
      "-0.49996351519471827\n",
      "36.67628574394267\n",
      "-0.49996351519471827\n",
      "36.89644083977259\n"
     ]
    },
    {
     "name": "stderr",
     "output_type": "stream",
     "text": [
      "/Users/rumilahiri/anaconda3/lib/python3.7/site-packages/sklearn/utils/validation.py:595: DataConversionWarning: Data with input dtype int64 was converted to float64 by StandardScaler.\n",
      "  warnings.warn(msg, DataConversionWarning)\n",
      "/Users/rumilahiri/anaconda3/lib/python3.7/site-packages/sklearn/utils/validation.py:595: DataConversionWarning: Data with input dtype int64 was converted to float64 by StandardScaler.\n",
      "  warnings.warn(msg, DataConversionWarning)\n",
      "/Users/rumilahiri/anaconda3/lib/python3.7/site-packages/sklearn/utils/validation.py:595: DataConversionWarning: Data with input dtype int64 was converted to float64 by StandardScaler.\n",
      "  warnings.warn(msg, DataConversionWarning)\n"
     ]
    }
   ],
   "source": [
    "x_train = scaler.fit_transform(x_train)\n",
    "x_test = scaler.transform(x_test)\n",
    "\n",
    "print(np.min(x_train))\n",
    "print(np.max(x_train))\n",
    "\n",
    "print(np.min(x_test))\n",
    "print(np.max(x_test))"
   ]
  },
  {
   "cell_type": "code",
   "execution_count": 22,
   "metadata": {},
   "outputs": [
    {
     "name": "stderr",
     "output_type": "stream",
     "text": [
      "/Users/rumilahiri/anaconda3/lib/python3.7/site-packages/sklearn/linear_model/logistic.py:433: FutureWarning: Default solver will be changed to 'lbfgs' in 0.22. Specify a solver to silence this warning.\n",
      "  FutureWarning)\n"
     ]
    },
    {
     "data": {
      "text/plain": [
       "LogisticRegression(C=1.0, class_weight=None, dual=False, fit_intercept=True,\n",
       "          intercept_scaling=1, max_iter=100, multi_class='warn',\n",
       "          n_jobs=None, penalty='l2', random_state=None, solver='warn',\n",
       "          tol=0.0001, verbose=0, warm_start=False)"
      ]
     },
     "execution_count": 22,
     "metadata": {},
     "output_type": "execute_result"
    }
   ],
   "source": [
    "model = LogisticRegression()\n",
    "model.fit(x_train,y_train)"
   ]
  },
  {
   "cell_type": "code",
   "execution_count": 23,
   "metadata": {},
   "outputs": [
    {
     "name": "stdout",
     "output_type": "stream",
     "text": [
      "F1 Score : 0.845916\n",
      "Precision: 0.747993\n",
      "Recall   : 0.973339\n"
     ]
    }
   ],
   "source": [
    "y_pred = model.predict(x_test)\n",
    "print('F1 Score : %f' % f1_score(y_test,y_pred))\n",
    "print('Precision: %f' % precision_score(y_test,y_pred))\n",
    "print('Recall   : %f' % recall_score(y_test,y_pred))"
   ]
  },
  {
   "cell_type": "code",
   "execution_count": 24,
   "metadata": {},
   "outputs": [
    {
     "name": "stdout",
     "output_type": "stream",
     "text": [
      "F1 Score : 0.846562\n",
      "Precision: 0.778240\n",
      "Recall   : 0.928034\n"
     ]
    }
   ],
   "source": [
    "model = DecisionTreeClassifier()\n",
    "model.fit(x_train,y_train)\n",
    "y_pred = model.predict(x_test)\n",
    "print('F1 Score : %f' % f1_score(y_test,y_pred))\n",
    "print('Precision: %f' % precision_score(y_test,y_pred))\n",
    "print('Recall   : %f' % recall_score(y_test,y_pred))"
   ]
  },
  {
   "cell_type": "code",
   "execution_count": 25,
   "metadata": {},
   "outputs": [
    {
     "name": "stderr",
     "output_type": "stream",
     "text": [
      "/Users/rumilahiri/anaconda3/lib/python3.7/site-packages/sklearn/ensemble/forest.py:246: FutureWarning: The default value of n_estimators will change from 10 in version 0.20 to 100 in 0.22.\n",
      "  \"10 in version 0.20 to 100 in 0.22.\", FutureWarning)\n"
     ]
    },
    {
     "name": "stdout",
     "output_type": "stream",
     "text": [
      "F1 Score : 0.845382\n",
      "Precision: 0.775114\n",
      "Recall   : 0.929661\n"
     ]
    }
   ],
   "source": [
    "model = RandomForestClassifier()\n",
    "model.fit(x_train,y_train)\n",
    "y_pred = model.predict(x_test)\n",
    "print('F1 Score : %f' % f1_score(y_test,y_pred))\n",
    "print('Precision: %f' % precision_score(y_test,y_pred))\n",
    "print('Recall   : %f' % recall_score(y_test,y_pred))"
   ]
  },
  {
   "cell_type": "code",
   "execution_count": null,
   "metadata": {},
   "outputs": [],
   "source": [
    "model = SVC()\n",
    "model.fit(x_train,y_train)\n",
    "y_pred = model.predict(x_test)\n",
    "print('F1 Score : %f' % f1_score(y_test,y_pred))\n",
    "print('Precision: %f' % precision_score(y_test,y_pred))\n",
    "print('Recall   : %f' % recall_score(y_test,y_pred))"
   ]
  },
  {
   "cell_type": "code",
   "execution_count": null,
   "metadata": {},
   "outputs": [],
   "source": []
  }
 ],
 "metadata": {
  "kernelspec": {
   "display_name": "Python 3",
   "language": "python",
   "name": "python3"
  },
  "language_info": {
   "codemirror_mode": {
    "name": "ipython",
    "version": 3
   },
   "file_extension": ".py",
   "mimetype": "text/x-python",
   "name": "python",
   "nbconvert_exporter": "python",
   "pygments_lexer": "ipython3",
   "version": "3.7.3"
  }
 },
 "nbformat": 4,
 "nbformat_minor": 2
}
